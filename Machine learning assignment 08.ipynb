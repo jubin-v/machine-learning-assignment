{
 "cells": [
  {
   "cell_type": "markdown",
   "id": "8cf5e694",
   "metadata": {},
   "source": [
    "1. What exactly is a feature? Give an example to illustrate your point ?\n"
   ]
  },
  {
   "cell_type": "markdown",
   "id": "7c98c8d4",
   "metadata": {},
   "source": [
    "Ans: Features are the basic building blocks of datasets. The quality of the features in your dataset has a major impact on the quality of the insights you will gain when you use that dataset for machine learning.\n",
    "\n",
    "Additionally, different business problems within the same industry do not necessarily require the same features, which is why it is important to have a strong understanding of the business goals of your data science project.\n",
    "\n"
   ]
  },
  {
   "cell_type": "markdown",
   "id": "b426c5ff",
   "metadata": {},
   "source": [
    "2. What are the various circumstances in which feature construction is required ?\n"
   ]
  },
  {
   "cell_type": "markdown",
   "id": "4369a029",
   "metadata": {},
   "source": [
    "Ans: The features in your data will directly influence the predictive models you use and the results you can achieve. Your results are dependent on many inter-dependent properties. You need great features that describe the structures inherent in your data. Better features means flexibility.\n",
    "\n"
   ]
  },
  {
   "cell_type": "markdown",
   "id": "9d3ff18e",
   "metadata": {},
   "source": [
    "3. Describe how nominal variables are encoded ?\n"
   ]
  },
  {
   "cell_type": "markdown",
   "id": "57ff4192",
   "metadata": {},
   "source": [
    "Ans: Nominal data is made of discrete values with no numerical relationship between the different categories — mean and median are meaningless. Animal species is one example. For example, pig is not higher than bird and lower than fish.\n",
    "\n"
   ]
  },
  {
   "cell_type": "markdown",
   "id": "2c94fca4",
   "metadata": {},
   "source": [
    "4. Describe how numeric features are converted to categorical features ?\n"
   ]
  },
  {
   "cell_type": "markdown",
   "id": "2c2fb0c0",
   "metadata": {},
   "source": [
    "Ans: Converting categorical features into numeric features using domain knowledge. For example, we are given a list of countries and say we know the distance to these countries from India then we can replace it with distance from India. So, every country can be represented as its distance from India.\n",
    "\n"
   ]
  },
  {
   "cell_type": "markdown",
   "id": "044645f3",
   "metadata": {},
   "source": [
    "5. Describe the feature selection wrapper approach. State the advantages and disadvantages of this approach ?\n"
   ]
  },
  {
   "cell_type": "markdown",
   "id": "bb8f36a9",
   "metadata": {},
   "source": [
    "Ans: Wrapper methods measure the “usefulness” of features based on the classifier performance. In contrast, the filter methods pick up the intrinsic properties of the features (i.e., the “relevance” of the features) measured via univariate statistics instead of cross-validation performance.\n",
    "\n",
    "The wrapper classification algorithms with joint dimensionality reduction and classification can also be used but these methods have high computation cost, lower discriminative power. Moreover, these methods depend on the efficient selection of classifiers for obtaining high accuracy\n",
    "\n"
   ]
  },
  {
   "cell_type": "markdown",
   "id": "936746d5",
   "metadata": {},
   "source": [
    "6. When is a feature considered irrelevant? What can be said to quantify it ?\n"
   ]
  },
  {
   "cell_type": "markdown",
   "id": "b6c1cdcf",
   "metadata": {},
   "source": [
    "Ans: Features are considered relevant if they are either strongly or weakly relevant, and are considered irrelevant otherwise.\n",
    "\n",
    "Irrelevant features can never contribute to prediction accuracy, by definition. Also to quantify it we need to first check the list of features, There are three types of feature selection:\n",
    "\n",
    "Wrapper methods (forward, backward, and stepwise selection)\n",
    "Filter methods (ANOVA, Pearson correlation, variance thresholding)\n",
    "Embedded methods (Lasso, Ridge, Decision Tree).\n"
   ]
  },
  {
   "cell_type": "markdown",
   "id": "513cf73f",
   "metadata": {},
   "source": [
    "7. When is a function considered redundant? What criteria are used to identify features that could be redundant ?\n"
   ]
  },
  {
   "cell_type": "markdown",
   "id": "7bcbd59c",
   "metadata": {},
   "source": [
    "Ans: If two features {X1, X2} are highly correlated, then the two features become redundant features since they have same information in terms of correlation measure. In other words, the correlation measure provides statistical association between any given a pair of features.\n",
    "\n",
    "Minimum redundancy feature selection is an algorithm frequently used in a method to accurately identify characteristics of genes and phenotypes\n",
    "\n"
   ]
  },
  {
   "cell_type": "markdown",
   "id": "cdcce834",
   "metadata": {},
   "source": [
    "8. What are the various distance measurements used to determine feature similarity ?\n"
   ]
  },
  {
   "cell_type": "markdown",
   "id": "9e7e30b5",
   "metadata": {},
   "source": [
    "Ans: Four of the most commonly used distance measures in machine learning are as follows:\n",
    "\n",
    "Hamming Distance.\n",
    "Euclidean Distance\n",
    "Manhattan Distance.\n"
   ]
  },
  {
   "cell_type": "markdown",
   "id": "53004284",
   "metadata": {},
   "source": [
    "9. State difference between Euclidean and Manhattan distances ?\n"
   ]
  },
  {
   "cell_type": "markdown",
   "id": "c042b71a",
   "metadata": {},
   "source": [
    "Ans: Euclidean & Hamming distances are used to measure similarity or dissimilarity between two sequences. Euclidean distance is extensively applied in analysis of convolutional codes and Trellis codes.\n",
    "\n",
    "Hamming distance is frequently encountered in the analysis of block codes.\n",
    "\n"
   ]
  },
  {
   "cell_type": "markdown",
   "id": "ddac3a63",
   "metadata": {},
   "source": [
    "10. Distinguish between feature transformation and feature selection ?\n"
   ]
  },
  {
   "cell_type": "markdown",
   "id": "3b60333d",
   "metadata": {},
   "source": [
    "Ans: Feature selection is for filtering irrelevant or redundant features from your dataset. The key difference between feature selection and extraction is that feature selection keeps a subset of the original features while feature extraction creates brand new ones."
   ]
  },
  {
   "cell_type": "code",
   "execution_count": null,
   "id": "030b9b43",
   "metadata": {},
   "outputs": [],
   "source": []
  }
 ],
 "metadata": {
  "kernelspec": {
   "display_name": "Python 3 (ipykernel)",
   "language": "python",
   "name": "python3"
  },
  "language_info": {
   "codemirror_mode": {
    "name": "ipython",
    "version": 3
   },
   "file_extension": ".py",
   "mimetype": "text/x-python",
   "name": "python",
   "nbconvert_exporter": "python",
   "pygments_lexer": "ipython3",
   "version": "3.9.7"
  }
 },
 "nbformat": 4,
 "nbformat_minor": 5
}
