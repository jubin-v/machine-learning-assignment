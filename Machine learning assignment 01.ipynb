{
 "cells": [
  {
   "cell_type": "code",
   "execution_count": null,
   "id": "ee8180e2",
   "metadata": {},
   "outputs": [],
   "source": [
    "1. What does one mean by the term machine learning?\n"
   ]
  },
  {
   "cell_type": "code",
   "execution_count": null,
   "id": "6c1d6f4a",
   "metadata": {},
   "outputs": [],
   "source": [
    "The simplest way to answer this question is – we give the data and equation to\n",
    "the machine. Ask the machine to look at the data and identify the coefficient\n",
    "values in an equation.\n",
    "For example for the linear regression y=mx+c, we give the data for the variable"
   ]
  },
  {
   "cell_type": "code",
   "execution_count": null,
   "id": "2c75feba",
   "metadata": {},
   "outputs": [],
   "source": [
    "\n",
    "2.Can you think of 4 distinct types of issues where it shines?\n",
    "\n"
   ]
  },
  {
   "cell_type": "code",
   "execution_count": null,
   "id": "c5d72427",
   "metadata": {},
   "outputs": [],
   "source": [
    "Machine learning algorithms have had good results on problems such has spam detection in email, cancer diagnosis, fraudulent credit card transactions, and automatically driving vehicles."
   ]
  },
  {
   "cell_type": "code",
   "execution_count": null,
   "id": "e9177955",
   "metadata": {},
   "outputs": [],
   "source": [
    "3.What is a labeled training set, and how does it work?\n"
   ]
  },
  {
   "cell_type": "code",
   "execution_count": null,
   "id": "adad7059",
   "metadata": {},
   "outputs": [],
   "source": [
    "A labeled training set is a collection of data where one of the features of the data indicates the class the training example belongs to. A labeled training set is used in supervised learning algorithms."
   ]
  },
  {
   "cell_type": "code",
   "execution_count": null,
   "id": "76b553a2",
   "metadata": {},
   "outputs": [],
   "source": [
    "\n",
    "4.What are the two most important tasks that are supervised?\n",
    "\n"
   ]
  },
  {
   "cell_type": "code",
   "execution_count": null,
   "id": "d82be4dc",
   "metadata": {},
   "outputs": [],
   "source": [
    "The two most common supervised learning tasks are regression and classification. In a regression problem we our prediciton is a scalar value. When we're trying to solve a classification problem, our output is either 1 or 0."
   ]
  },
  {
   "cell_type": "code",
   "execution_count": null,
   "id": "20a1df86",
   "metadata": {},
   "outputs": [],
   "source": [
    "5.Can you think of four examples of unsupervised tasks?\n",
    "\n"
   ]
  },
  {
   "cell_type": "code",
   "execution_count": null,
   "id": "c1726359",
   "metadata": {},
   "outputs": [],
   "source": [
    "Common unsupervised tasks include clustering, visualization, dimensionality reduction and association rule learning.\n",
    "\n"
   ]
  },
  {
   "cell_type": "code",
   "execution_count": null,
   "id": "bddbc55f",
   "metadata": {},
   "outputs": [],
   "source": [
    "6.State the machine learning model that would be best to make a robot walk through various\n",
    "unfamiliar terrains?\n"
   ]
  },
  {
   "cell_type": "code",
   "execution_count": null,
   "id": "9e0eef1a",
   "metadata": {},
   "outputs": [],
   "source": [
    "I would use a reinforcement learning approach. Reinforcement learning is a system where an \"agent\" observes the environment, selects and performs actions, then recieves a reward or punishment based on the result of the action. Over time the agent learns by itself what is the most productive strategy."
   ]
  },
  {
   "cell_type": "code",
   "execution_count": null,
   "id": "34fd9ba8",
   "metadata": {},
   "outputs": [],
   "source": [
    "\n",
    "7.Which algorithm will you use to divide your customers into different groups?\n"
   ]
  },
  {
   "cell_type": "code",
   "execution_count": null,
   "id": "7892290c",
   "metadata": {},
   "outputs": [],
   "source": [
    "I would use some sort of clustering algorithm that can find the decision boundaries in the groups automatically. This is an unsupervised approach. However, if I already knew the categories of my customers, then I would choose a supervised approach and go with a classification algorithm."
   ]
  },
  {
   "cell_type": "code",
   "execution_count": null,
   "id": "ec963954",
   "metadata": {},
   "outputs": [],
   "source": [
    "\n",
    "8.Will you consider the problem of spam detection to be a supervised or unsupervised learning\n",
    "problem?\n"
   ]
  },
  {
   "cell_type": "code",
   "execution_count": null,
   "id": "0ab43fb0",
   "metadata": {},
   "outputs": [],
   "source": [
    "I would frame it as a supervised learning problem because humans have a general idea about what spam is and what it isn't. We can use this notion to create a labeled dataset for an algorithm to learn from."
   ]
  },
  {
   "cell_type": "code",
   "execution_count": null,
   "id": "07551dfc",
   "metadata": {},
   "outputs": [],
   "source": [
    "\n",
    "9.What is the concept of an online learning system?\n",
    "\n"
   ]
  },
  {
   "cell_type": "code",
   "execution_count": null,
   "id": "aa1c5713",
   "metadata": {},
   "outputs": [],
   "source": [
    "An online learning system learns from new data on-the-fly. As a result, the system is trained incrementally either by using one example at a time or using a mini-batch approach. This keeps each learning step cheap and memory efficient."
   ]
  },
  {
   "cell_type": "code",
   "execution_count": null,
   "id": "0b921a6f",
   "metadata": {},
   "outputs": [],
   "source": [
    "10.What is out-of-core learning, and how does it differ from core learning?\n",
    "\n"
   ]
  },
  {
   "cell_type": "code",
   "execution_count": null,
   "id": "62c5539c",
   "metadata": {},
   "outputs": [],
   "source": [
    "Out-of-core learning is used when a dataset is too large to fit into a computer's memory. The algorithm loads part of the data, runs a training step, then repeats the process until it has run on all the data."
   ]
  },
  {
   "cell_type": "code",
   "execution_count": null,
   "id": "e3daf5ab",
   "metadata": {},
   "outputs": [],
   "source": [
    "11.What kind of learning algorithm makes predictions using a similarity measure?\n",
    "\n"
   ]
  },
  {
   "cell_type": "code",
   "execution_count": null,
   "id": "0e7e3d69",
   "metadata": {},
   "outputs": [],
   "source": [
    "Instance-based learning algorithms use a measure of similarity to generalize to new cases. In an instance-based learning system, the algorithm learns the examples by heart, then uses the similarity measure to generalize."
   ]
  },
  {
   "cell_type": "code",
   "execution_count": null,
   "id": "9fe2eb45",
   "metadata": {},
   "outputs": [],
   "source": [
    "12.What is the difference between a model parameter and a hyperparameter in a learning\n",
    "algorithm?\n",
    "\n"
   ]
  },
  {
   "cell_type": "code",
   "execution_count": null,
   "id": "8847daf7",
   "metadata": {},
   "outputs": [],
   "source": [
    "A hyperparameter is a parameter of the learning algorithm, not the model. For example, in a simple linear regression problem our model is parameterized by theta which is a vector of weights. In order to find the best values for theta we have a cost function which is run repeatedly by the gradient descent algorithm. Gradient descent has a hyperparameter called alpha which is the learning rate of the algorithm."
   ]
  },
  {
   "cell_type": "code",
   "execution_count": null,
   "id": "8e5e9c06",
   "metadata": {},
   "outputs": [],
   "source": [
    "13.What are the criteria that model-based learning algorithms look for? What is the most popular\n",
    "method they use to achieve success? What method do they use to make predictions?\n",
    "\n"
   ]
  },
  {
   "cell_type": "code",
   "execution_count": null,
   "id": "9739a7ca",
   "metadata": {},
   "outputs": [],
   "source": [
    "The goal for a model-based algorithm is to be able to generalize to new examples. To do this, model based algorithms search for optimal values for the model's parameters, often called theta. This searching, or \"learning\", is what machine learning is all about. Model-based system learn by minimizing a cost function that measures how bad the system is at making predicitons on new data, plus a penalty for model complexity if the model is regularized. To make a prediction, a new instance's features are fed into a hypothesis function which uses the minimized theta found by repeatedly running the cost function."
   ]
  },
  {
   "cell_type": "code",
   "execution_count": null,
   "id": "bd2c6c92",
   "metadata": {},
   "outputs": [],
   "source": [
    "14.Can you name four of the most important Machine Learning challenges?\n",
    "\n"
   ]
  },
  {
   "cell_type": "code",
   "execution_count": null,
   "id": "77b86a78",
   "metadata": {},
   "outputs": [],
   "source": [
    "Not gathering enough data, or sampling noise. Sampling noise means we'll have non-representative data as a result of chance.\n",
    "\n",
    "Using a dataset that is not representative of the cases you want to generalize to. This is called sampling bias. For example, if you want to train an algorithm with \"cat videos\", and all your videos are from YouTube, you're actually training an algorithm to learn about \"YouTube cat videos.\"\n",
    "\n",
    "Your dataset is full of missing values, outliers, and noise (poor measurments).\n",
    "\n",
    "The features in your dataset are irrelevant. Garbage in, garbage out.\n",
    "\n",
    "Feature selection - choose the most relevant features from your dataset\n",
    "Feature extraction - combine features in your dataset to generate a new, more useful feature\n",
    "When your model performs well on the training data, but not on test data, you've over fit your model. Models that suffer from overfitting do not generalize well to new examples. Overfitting happens when the model is too complex relative to the amount and noisiness of the data.\n",
    "\n",
    "Try simplyfying the model by reducing the number of features in the data or constraining the parameters by reducing the degrees of freedom.\n",
    "Gather more training data.\n",
    "Reduce noise in the training data by fixing errors and removing outliers.\n",
    "When your model is too simple to learn the underlying structure of the data you've underfit your model.\n",
    "\n",
    "Select a more powerful model with more parameters\n",
    "Use feature engineering to feed better features to the model\n",
    "Reduce the constraints of the model (increase degrees of freedom, reduce regularization parameter, etc.)"
   ]
  },
  {
   "cell_type": "code",
   "execution_count": null,
   "id": "69887ee8",
   "metadata": {},
   "outputs": [],
   "source": [
    "15.What happens if the model performs well on the training data but fails to generalize the results\n",
    "to new situations? Can you think of three different options?\n",
    "\n"
   ]
  },
  {
   "cell_type": "code",
   "execution_count": null,
   "id": "e03face7",
   "metadata": {},
   "outputs": [],
   "source": [
    "This is a case where the model is overfitting the training data. To couteract overfitting, we can reduce the complexity of the model by removing features or constraining the parameters. We could gather more data. Finally we can reduce noisiness in the data by fixing errors and removing outliers."
   ]
  },
  {
   "cell_type": "code",
   "execution_count": null,
   "id": "75a07ff3",
   "metadata": {},
   "outputs": [],
   "source": [
    "16.What exactly is a test set, and why would you need one?\n",
    "\n"
   ]
  },
  {
   "cell_type": "code",
   "execution_count": null,
   "id": "a1143a77",
   "metadata": {},
   "outputs": [],
   "source": [
    "When we want to know how well our model generalizes to new cases we prefer to use a test set instead of actually deploying the system. To build the test set we split the training data (50-50, 60-40, 80-20 are common splits) into a training set and test set. Our model is training with the training set. Then we use the model to run predictions on the test set. Our error rate on the test set is called the generalization error or out-of-sample error. This error tells us how well our model performs on examples it has never seen before."
   ]
  },
  {
   "cell_type": "code",
   "execution_count": null,
   "id": "ca2bd794",
   "metadata": {},
   "outputs": [],
   "source": [
    "17.What is a validation set purpose?\n"
   ]
  },
  {
   "cell_type": "code",
   "execution_count": null,
   "id": "11b8fa63",
   "metadata": {},
   "outputs": [],
   "source": [
    "Let's say we have a linear model and we want to perform some hyperparameter tuning to reduce the generalization error. One way to do this 100 different models with 100 different hyperparameter values using the training set and finding the generalization error with the test set. You find the best hyperparameter value gives you 5% generalization error.\n",
    "\n",
    "So you launch the model into production and find you're seeing 15% generalization error. This isn't going as expected. What happened?\n",
    "\n",
    "The problem is that for each iteration of hyperparameter tuning, you measured the generalization error then updated the model using the same test set. In other words, your produced the best generalization error for the test set. The test set no longer represents cases the model hasn't seen before.\n",
    "\n",
    "A common solution to this problem is to have a second holdout set called the validation set. You train multiple models with various hyperparameters using the training set, you select the model and hyperparameters that perform best on the validation set, and when you are happy about your model you run a single final test against the test set to get an estimate of the generalization error"
   ]
  },
  {
   "cell_type": "code",
   "execution_count": null,
   "id": "e65ec8a3",
   "metadata": {},
   "outputs": [],
   "source": [
    "\n",
    "18.What precisely is the train-dev kit, when will you need it, how do you put it to use?\n"
   ]
  },
  {
   "cell_type": "code",
   "execution_count": null,
   "id": "5656669c",
   "metadata": {},
   "outputs": [],
   "source": [
    "Training Data Learning algorithm like gradient descent use training data iteratively to learn the parameters of the model.\n",
    "\n",
    "In the training process, data is slowly memorized into the parametric aspect of the model with the goal of generalizing this model to unseen data.\n",
    "\n",
    "Training process emits the parameters of a model and hence the sole purpose of training data is to make a decision about which parameters to pick given huge options to choose from.\n",
    "\n",
    "To solve any machine learning problem we have more than one ideas in our mind to try e.g. different model architectures, add regularization or not etc. We use training data to emit parameters for each of the model i.e. If we have 3 models in mind to try, we use training data to give parameters of each of the model choice but now we need to decide which model is good one out of all these choices.\n",
    "The goal of dev-set is to rank the models in term of their accuracy and helps us decide which model to proceed further with. Using Dev set we rank all our models in terms of their accuracy and pick the best performing model. i.e. dev set ranks models similar to a search engine like google rank pages and then pick the top model and hence act as a filter to remove bad models."
   ]
  },
  {
   "cell_type": "code",
   "execution_count": null,
   "id": "47efa232",
   "metadata": {},
   "outputs": [],
   "source": [
    "\n",
    "19.What could go wrong if you use the test set to tune hyperparameters?"
   ]
  },
  {
   "cell_type": "code",
   "execution_count": null,
   "id": "b3cbc424",
   "metadata": {},
   "outputs": [],
   "source": [
    "Your model will not be generalizable to new examples."
   ]
  }
 ],
 "metadata": {
  "kernelspec": {
   "display_name": "Python 3 (ipykernel)",
   "language": "python",
   "name": "python3"
  },
  "language_info": {
   "codemirror_mode": {
    "name": "ipython",
    "version": 3
   },
   "file_extension": ".py",
   "mimetype": "text/x-python",
   "name": "python",
   "nbconvert_exporter": "python",
   "pygments_lexer": "ipython3",
   "version": "3.9.7"
  }
 },
 "nbformat": 4,
 "nbformat_minor": 5
}
